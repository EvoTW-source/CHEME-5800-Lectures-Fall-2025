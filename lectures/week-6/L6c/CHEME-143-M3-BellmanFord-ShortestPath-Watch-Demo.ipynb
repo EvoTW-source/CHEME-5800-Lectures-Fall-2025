{
 "cells": [
  {
   "cell_type": "markdown",
   "id": "f813ad1d-c727-4742-9dca-e5caecfb016d",
   "metadata": {},
   "source": [
    "# Shortest Path Problems\n",
    "Shortest-path problems enable us to find the most efficient route between two points in a graph, such as minimizing travel time on a roadmap, signal delay in a communication network, cost in a logistics system, or the fewest number of unit operations in a chemical process.\n",
    "* _Why should we study these?_ Understanding these algorithms enables real‐world `routing` applications, and also provides a foundation for more advanced graph‐based optimizations like flow and resource allocation.\n",
    "* _Hmmmm_. While this material may seem to be fully rooted in the realm of computer science, that perception is not true! Once you see how these algorithms work (and what we can model as a graph), the world will be full of graph problems, and these algorithms will be foundational.\n",
    "\n",
    "Let's look at another classic shortest-path algorithm, that can address some of the limitations of Dijkstra's algorithm: the Bellman-Ford algorithm.\n",
    "___"
   ]
  },
  {
   "cell_type": "markdown",
   "id": "34abfcc0",
   "metadata": {},
   "source": [
    "## Bellman-Ford Algorithm\n",
    "The Bellman-Ford algorithm is a more general algorithm that can handle graphs with negative edge weights. It works by iteratively relaxing the edges of the graph, allowing it to find the shortest path even in the presence of negative weights.\n",
    "\n",
    "Let's look at how Bellman-Ford works.\n",
    "\n",
    "__Initialization__: Graph $\\mathcal{G}=(\\mathcal{V},\\mathcal{E})$, source node $s\\in\\mathcal{V}$, and edge weights $w(u,v)$. Initialize a distance map $\\texttt{dist}:\\mathcal{V}\\to\\mathbb{R}$, and a previous node map $\\texttt{prev}:\\mathcal{V}\\to\\mathcal{V}\\cup\\{\\texttt{nothing}\\}$\n",
    "\n",
    "For each $v\\in\\mathcal{V}$ __do__:\n",
    "* If $v=s$ __then__: set $\\texttt{dist}(s)\\gets{0}$, and $\\texttt{prev}(s)\\gets{\\texttt{nothing}}$.\n",
    "* If $v\\neq{s}$ __then__: set $\\texttt{dist}(v)\\gets{\\infty}$, and $\\texttt{prev}(v)\\gets{\\texttt{nothing}}$.\n",
    "\n",
    "Repeat $|\\mathcal{V}| - 1$ times __do__:\n",
    "\n",
    "- For each edge $(u,v)\\in\\mathcal{E}$ __do__:\n",
    "    * If $\\texttt{dist}(u)+w(u,v)<\\texttt{dist}(v)$ __then__:\n",
    "        * Update the distance: $\\texttt{dist}(v)\\gets\\texttt{dist}(u)+w(u,v)$.\n",
    "        * Update the previous vertex: $\\texttt{prev}(v)\\gets{u}$.\n",
    "\n",
    "After $|\\mathcal{V}| - 1$ iterations, we perform _one more pass_ through all edges to check for __negative-weight cycles__:\n",
    "- For each edge $(u,v)\\in\\mathcal{E}$ __do__:\n",
    "    * If $\\texttt{dist}(u)+w(u,v)<\\texttt{dist}(v)$, __then__:\n",
    "        * Report that a negative-weight cycle exists.\n",
    "\n",
    "\n",
    "### Summary\n",
    "* __Complexity__: The time complexity of the Bellman-Ford algorithm is $\\mathcal{O}(|\\mathcal{V}|\\cdot|\\mathcal{E}|)$, where $|\\mathcal{E}|$ is the number of edges and $|\\mathcal{V}|$ is the number of vertices in the graph. This is because we iterate through all edges $|\\mathcal{V}| - 1$ times. Thus, it is less efficient than Dijkstra's algorithm for graphs with non-negative weights.\n",
    "* __Negative Weights & Cycles__: Bellman–Ford handles negative edge weights by doing $|\\mathcal{V}|-1$ rounds of relaxation and then one extra pass to _detect_ any negative-weight cycle. It always terminates in $\\mathcal{O}(|\\mathcal{V}|\\cdot|\\mathcal{E}|)$ time. If the extra pass finds a further relaxation, it reports a negative cycle rather than looping forever, but it won’t produce valid shortest-path distances when such a cycle exists.\n",
    "\n",
    "___"
   ]
  }
 ],
 "metadata": {
  "kernelspec": {
   "display_name": "Julia 1.11.6",
   "language": "julia",
   "name": "julia-1.11"
  },
  "language_info": {
   "file_extension": ".jl",
   "mimetype": "application/julia",
   "name": "julia",
   "version": "1.11.6"
  }
 },
 "nbformat": 4,
 "nbformat_minor": 5
}
